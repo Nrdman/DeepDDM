{
 "cells": [
  {
   "cell_type": "code",
   "execution_count": 29,
   "id": "97f5e2d0",
   "metadata": {},
   "outputs": [],
   "source": [
    "import numpy as np\n",
    "import math\n",
    "import scipy\n",
    "import scipy.linalg  \n",
    "import time\n",
    "import scipy.sparse as sparse\n",
    "import scipy.sparse.linalg\n",
    "import matplotlib.pyplot as plt\n"
   ]
  },
  {
   "cell_type": "code",
   "execution_count": 30,
   "id": "ce61e3ec",
   "metadata": {},
   "outputs": [],
   "source": [
    "Nvm = 10\n",
    "nvm=10"
   ]
  },
  {
   "cell_type": "code",
   "execution_count": 31,
   "id": "29b3b7e7",
   "metadata": {},
   "outputs": [],
   "source": [
    "def element_locator(Nvm, nvm, x, y):\n",
    "    intx = x*Nvm\n",
    "    inty = y*nvm\n",
    "    if intx ==0:\n",
    "        colnum = 1\n",
    "    elif intx==int(intx):\n",
    "        colnum =int(x*Nvm)\n",
    "    else:\n",
    "        colnum = int(x*Nvm)+1\n",
    "    print(colnum)\n",
    "    \n",
    "    if inty ==0:\n",
    "        rownum =1\n",
    "    elif inty==int(inty):\n",
    "        rownum = int(y*nvm)\n",
    "    else:\n",
    "        rownum = int(y*nvm)+1\n",
    "    print(rownum)\n",
    "    i = colnum-1+(rownum-1)*Nvm\n",
    "    \n",
    "    return i"
   ]
  },
  {
   "cell_type": "code",
   "execution_count": null,
   "id": "136765c7",
   "metadata": {},
   "outputs": [],
   "source": []
  },
  {
   "cell_type": "code",
   "execution_count": 32,
   "id": "b159ad65",
   "metadata": {},
   "outputs": [],
   "source": [
    "def DeepDDM(Nvm,nvm, h_x, h_y, ):\n",
    "    #Nvm = number of sub divisions on x  axis\n",
    "    #nvm = number of subdivisions on y axis\n",
    "    #Nvm*nvm= number of subdomains\n",
    "    #h is amount of overlap in the relevant axis\n",
    "        #note h_x<=1/Nvm, h_y<=1/nvm\n",
    "    #Space is [0,1] by [0,1]\n",
    "    \n",
    "    #connnectivity matrix, as in what subdomains are connected\n",
    "    #is boundary matrix\n",
    "    #range of the various subdomains\n",
    "    \n",
    "    len_x = 1/Nvm # length of the subdivisions on x axis\n",
    "    len_y = 1/nvm #length of the subdivisions on y axis\n",
    "    \n",
    "    DomNum = Nvm*nvm\n",
    "    sub_x_min = np.empty(DomNum) \n",
    "    sub_x_max = np.empty(DomNum)\n",
    "    sub_y_min = np.empty(DomNum)\n",
    "    sub_y_max = np.empty(DomNum)\n",
    "    el_rownum = np.empty(DomNum)\n",
    "    el_colnum = np.empty(DomNum)\n",
    "    for i in range(DomNum):\n",
    "        el_rownum[i] = int(i/Nvm) \n",
    "        el_colnum[i] = np.mod(i,Nvm)\n",
    "        if el_colnum[i] == 0:\n",
    "            sub_x_max[i] = (el_colnum[i]+1)*len_x+h_x\n",
    "            sub_x_min[i] = (el_colnum[i])*len_x\n",
    "        if el_colnum[i] == Nvm-1:\n",
    "            sub_x_min[i] = (el_colnum[i])*len_x-h_x\n",
    "            sub_x_max[i] = (el_colnum[i]+1)*len_x\n",
    "        if el_colnum[i]!=0 and el_colnum[i]!=Nvm-1:\n",
    "            sub_x_min[i] = el_colnum[i]*len_x-h_x\n",
    "            sub_x_max[i] = (el_colnum[i]+1)*len_x+h_x\n",
    "            \n",
    "        if el_rownum[i]==0:\n",
    "            sub_y_max[i] = (el_rownum[i]+1)*len_y+h_y\n",
    "            sub_y_min[i] = el_rownum[i]*len_y\n",
    "        if el_rownum[i]==nvm-1:\n",
    "            sub_y_min[i] = el_rownum[i]*len_y-h_y\n",
    "            sub_y_max[i] = (el_rownum[i]+1)*len_y\n",
    "        if el_rownum[i]!=0 and el_rownum[i]!=nvm-1:\n",
    "            sub_y_min[i] = el_rownum[i]*len_y-h_y\n",
    "            sub_y_max[i] = (el_rownum[i]+1)*len_y+h_y\n",
    "    plt.figure()\n",
    "    for i in range(DomNum):\n",
    "        plt.vlines(x=[sub_x_min[i], sub_x_max[i]], ymin=0, ymax=1)\n",
    "        plt.hlines(y=[sub_y_min[i], sub_y_max[i]], xmin=0, xmax=1)\n",
    "    plt.show()\n",
    "    \n",
    "    \n",
    "        \n",
    "        \n",
    "            \n",
    "            \n",
    "    "
   ]
  },
  {
   "cell_type": "code",
   "execution_count": null,
   "id": "9036e14a",
   "metadata": {},
   "outputs": [],
   "source": []
  },
  {
   "cell_type": "code",
   "execution_count": 33,
   "id": "93bc5d14",
   "metadata": {},
   "outputs": [
    {
     "data": {
      "image/png": "[encoded data removed]",
      "text/plain": [
       "<Figure size 432x288 with 1 Axes>"
      ]
     },
     "metadata": {
      "needs_background": "light"
     },
     "output_type": "display_data"
    }
   ],
   "source": [
    "DeepDDM(7,3, 0.005, 0.02)"
   ]
  },
  {
   "cell_type": "code",
   "execution_count": null,
   "id": "07ff2981",
   "metadata": {},
   "outputs": [],
   "source": []
  },
  {
   "cell_type": "code",
   "execution_count": null,
   "id": "a499600a",
   "metadata": {},
   "outputs": [],
   "source": []
  },
  {
   "cell_type": "code",
   "execution_count": null,
   "id": "99747724",
   "metadata": {},
   "outputs": [],
   "source": []
  },
  {
   "cell_type": "code",
   "execution_count": null,
   "id": "281a103e",
   "metadata": {},
   "outputs": [],
   "source": []
  },
  {
   "cell_type": "code",
   "execution_count": null,
   "id": "0eca7523",
   "metadata": {},
   "outputs": [],
   "source": []
  },
  {
   "cell_type": "code",
   "execution_count": null,
   "id": "9aaaa144",
   "metadata": {},
   "outputs": [],
   "source": []
  },
  {
   "cell_type": "code",
   "execution_count": null,
   "id": "e85d8338",
   "metadata": {},
   "outputs": [],
   "source": []
  },
  {
   "cell_type": "code",
   "execution_count": null,
   "id": "7d9e30a0",
   "metadata": {},
   "outputs": [],
   "source": []
  }
 ],
 "metadata": {
  "kernelspec": {
   "display_name": "Python 3 (ipykernel)",
   "language": "python",
   "name": "python3"
  },
  "language_info": {
   "codemirror_mode": {
    "name": "ipython",
    "version": 3
   },
   "file_extension": ".py",
   "mimetype": "text/x-python",
   "name": "python",
   "nbconvert_exporter": "python",
   "pygments_lexer": "ipython3",
   "version": "3.9.7"
  }
 },
 "nbformat": 4,
 "nbformat_minor": 5
}
